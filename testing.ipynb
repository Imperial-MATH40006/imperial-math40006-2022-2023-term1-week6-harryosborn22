{
 "cells": [
  {
   "cell_type": "code",
   "execution_count": 1,
   "id": "239c65ab",
   "metadata": {},
   "outputs": [
    {
     "name": "stdout",
     "output_type": "stream",
     "text": [
      "[(16+0j), 'seventeen', 18, 19.0]\n"
     ]
    }
   ],
   "source": [
    "list1 = [0j, 'one', 2, 3.0, (4+0j), 'five', 6, 7.0, (8+0j), 'nine', 10, 11.0, (12+0j), 'thirteen', 14, 15.0, (16+0j), 'seventeen', 18, 19.0]\n",
    "print(list1[16:20])"
   ]
  },
  {
   "cell_type": "code",
   "execution_count": null,
   "id": "94a350aa",
   "metadata": {},
   "outputs": [],
   "source": []
  }
 ],
 "metadata": {
  "kernelspec": {
   "display_name": "Python 3 (ipykernel)",
   "language": "python",
   "name": "python3"
  },
  "language_info": {
   "codemirror_mode": {
    "name": "ipython",
    "version": 3
   },
   "file_extension": ".py",
   "mimetype": "text/x-python",
   "name": "python",
   "nbconvert_exporter": "python",
   "pygments_lexer": "ipython3",
   "version": "3.9.13"
  }
 },
 "nbformat": 4,
 "nbformat_minor": 5
}
